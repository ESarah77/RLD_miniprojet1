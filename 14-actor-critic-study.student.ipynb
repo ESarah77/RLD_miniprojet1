{
 "cells": [
  {
   "cell_type": "markdown",
   "id": "d462e328",
   "metadata": {},
   "source": [
    " Copyright © Sorbonne University.\n",
    "\n",
    " This source code is licensed under the MIT license found in the\n",
    " LICENSE file in the root directory of this source tree."
   ]
  },
  {
   "cell_type": "markdown",
   "id": "48ee02ab",
   "metadata": {},
   "source": [
    "# Outlook\n",
    "\n",
    "In this notebook, you will code a naive actor-critic algorithm in the tabular case. Then you will tune it using grid search and Bayesian optimization, potentially using the [optuna](https://optuna.readthedocs.io/en/stable/) library.\n",
    "Finally, you will get the best hyper-parameters obtained with both methods and perform a statistical test to see if there is a statistically significant difference between these methods and with respect to naive hyper-parameter values.\n",
    "\n",
    "## Install libraries"
   ]
  },
  {
   "cell_type": "code",
   "execution_count": 1,
   "id": "cc4f3a66",
   "metadata": {},
   "outputs": [],
   "source": [
    "# Installs the necessary Python and system libraries\n",
    "try:\n",
    "    from easypip import easyimport, easyinstall, is_notebook\n",
    "except ModuleNotFoundError as e:\n",
    "    get_ipython().run_line_magic(\"pip\", \"install 'easypip>=1.2.0'\")\n",
    "    from easypip import easyimport, easyinstall, is_notebook\n",
    "\n",
    "easyinstall(\"swig\")\n",
    "easyinstall(\"bbrl>=0.2.2\")\n",
    "easyinstall(\"bbrl_gymnasium>=0.2.0\")\n",
    "easyinstall(\"tensorboard\")\n",
    "easyinstall(\"moviepy\")\n",
    "easyinstall(\"box2d-kengz\")\n",
    "easyinstall(\"optuna\")\n",
    "easyinstall(\"gymnasium\")\n",
    "easyinstall(\"mazemdp\")\n",
    "\n",
    "import numpy as np\n",
    "import os\n",
    "from typing import List\n",
    "\n",
    "import hydra\n",
    "import optuna\n",
    "import yaml\n",
    "from omegaconf import OmegaConf, DictConfig\n",
    "\n",
    "# For visualization\n",
    "os.environ[\"VIDEO_FPS\"] = \"5\"\n",
    "if not os.path.isdir(\"./videos\"):\n",
    "    os.mkdir(\"./videos\")\n",
    "\n",
    "from IPython.display import Video"
   ]
  },
  {
   "cell_type": "code",
   "execution_count": 2,
   "id": "2b5f794d",
   "metadata": {},
   "outputs": [],
   "source": [
    "import torch\n",
    "import torch.nn as nn"
   ]
  },
  {
   "cell_type": "code",
   "execution_count": 20,
   "id": "8369e4b4",
   "metadata": {
    "lines_to_next_cell": 1
   },
   "outputs": [],
   "source": [
    "import gymnasium as gym\n",
    "\n",
    "from bbrl.utils.chrono import Chrono\n",
    "\n",
    "import matplotlib\n",
    "import matplotlib.pyplot as plt\n",
    "\n",
    "from mazemdp.toolbox import sample_categorical, egreedy_loc\n",
    "from mazemdp.mdp import Mdp\n",
    "from bbrl_gymnasium.envs.maze_mdp import MazeMDPEnv\n",
    "from gymnasium.wrappers.monitoring.video_recorder import VideoRecorder\n",
    "from functools import partial\n",
    "from tqdm import tqdm\n",
    "\n",
    "matplotlib.use(\"TkAgg\")"
   ]
  },
  {
   "cell_type": "markdown",
   "id": "5b7a1663",
   "metadata": {},
   "source": [
    "# Step 1: Coding the naive Actor-critic algorithm\n",
    "\n",
    "We consider the naive actor-critic algorithm with a categorical policy.\n",
    "The algorithm learns a critic with the standard temporal difference mechanism\n",
    "using a learning rate $\\alpha_{critic}$.\n",
    "\n",
    "We consider a value-based critic $V(s)$. The extension to an action value function $Q(s,a)$ is straightforward.\n",
    "\n",
    "To update the critic, the algorithm computes the temporal difference error:\n",
    "\n",
    "$$\\delta_t = r(s_t, a_t) + \\gamma V^{(n)}(s_{t+1})-V^{(n)}(s_t).$$\n",
    "\n",
    "Then it applies it to the critic:\n",
    "\n",
    "$$V^{(n+1)}(s_t) = V^{(n)}(s_t) + \\alpha_{critic} \\delta_t.$$\n",
    "\n",
    "To update the actor, the general idea is the same, using the temporal difference error with another learning rate $\\alpha_{actor}$.\n",
    "\n",
    "However, naively applying the same learning rule would not ensure that the probabilities of all actions in a state sum to 1.\n",
    "Besides, when the temporal difference error $\\delta_t$ is negative, it may happen that the probability of an action gets negative or null, which raises an issue when applying renormalization.\n",
    "\n",
    "So, instead of applying the naive rule, we apply the following one:\n",
    "$$ \n",
    "\\pi_{temp}(a_t|s_t) =  \\begin{cases}\n",
    "\\pi^{(i)}(a_t|s_t) + \\alpha_{actor} \\delta_t & \\mathrm{if } \\pi^{(i)}(a_t|s_t) + \\alpha_{actor} \\delta_t > 10^{-8}\\\\\n",
    "10^{-8} & \\mathrm{otherwise.} \\\\\n",
    "\\end{cases}\n",
    "$$\n",
    "\n",
    "Then we can apply renormalization so that the probabilities of actions still sum to 1, with\n",
    "$$\n",
    "\\forall a, \\pi^{(i+1)}(a|s_t) = \\frac{\\pi_{temp}^{(i+1)}(a|s_t)} {\\sum_{a'} \\pi_{temp}^{(i+1)}(a'|s_t)}\n",
    "$$ with\n",
    "$$ \n",
    "\\pi_{temp}^{(i+1)}(a|s_t) =  \\begin{cases}\n",
    "\\pi_{temp}(a|s_t) & \\mathrm{if } a = a_t\\\\\n",
    "\\pi^{(i)}(a|s_t) & \\mathrm{otherwise.} \\\\\n",
    "\\end{cases}\n",
    "$$\n",
    "\n",
    "## Exercise 1\n",
    "\n",
    "### 1. Code the naive actor-critic algorithm as specified above.\n",
    "\n",
    "Some hints:\n",
    "\n",
    "- a good idea to build this code it to take inspiration from the code of Q-learning, to add an actor (a categorical policy), both learning rates,\n",
    "and to take care about the renormalization function.\n",
    "\n",
    "- for the next steps of this lab, having a function to repeatedly call your actor-critic algorithm and save the learning trajectories and\n",
    "norms of the value function is a good idea."
   ]
  },
  {
   "cell_type": "code",
   "execution_count": 61,
   "id": "531c428e-85ad-4ad0-9478-b8bad347d1cb",
   "metadata": {},
   "outputs": [],
   "source": [
    "# Settings\n",
    "NB_EPISODES = 100\n",
    "TIMEOUT = 25"
   ]
  },
  {
   "cell_type": "code",
   "execution_count": 62,
   "id": "50aadb87-4817-4e2a-9d17-28edfc76f3f6",
   "metadata": {},
   "outputs": [
    {
     "data": {
      "text/html": [
       "<style>table.maze {\n",
       "    border-collapse: collapse;\n",
       "}\n",
       "\n",
       "td {\n",
       "    text-align: center;\n",
       "}\n",
       "\n",
       "table.maze td.cell {\n",
       "    border: 1px solid black;\n",
       "}\n",
       "\n",
       "td.wall {\n",
       "    background: black;\n",
       "}\n",
       "\n",
       "td.terminal {\n",
       "    background: rgb(246, 170, 246);\n",
       "}\n",
       "\n",
       "table.maze table td {\n",
       "    width: .5rem;\n",
       "    height: .5rem;\n",
       "}\n",
       "\n",
       "table.maze table td.arrow {\n",
       "    color: white;\n",
       "    font-weight: bold;\n",
       "}\n",
       "\n",
       "table.maze table td.value {\n",
       "    width: 2rem;\n",
       "    height: 2rem;\n",
       "}</style>"
      ],
      "text/plain": [
       "<IPython.core.display.HTML object>"
      ]
     },
     "metadata": {},
     "output_type": "display_data"
    },
    {
     "data": {
      "application/vnd.jupyter.widget-view+json": {
       "model_id": "0f369f3b85644778b7cd726b13b2f8ad",
       "version_major": 2,
       "version_minor": 0
      },
      "text/plain": [
       "VBox(children=(MazeWidget(cells=array([[ 0, -1, -1,  7],\n",
       "       [ 1,  3,  5,  8],\n",
       "       [ 2,  4,  6,  9]]), t…"
      ]
     },
     "metadata": {},
     "output_type": "display_data"
    }
   ],
   "source": [
    "# Environment with 20% of walls and no negative reward when hitting a wall\n",
    "env = gym.make(\n",
    "    \"MazeMDP-v0\",\n",
    "    kwargs={\"width\": 4, \"height\": 3, \"ratio\": 0.2, \"hit\": 0.0},\n",
    "    render_mode=\"human\",\n",
    ")\n",
    "env.reset()\n",
    "env.unwrapped.init_draw(\"The maze\")"
   ]
  },
  {
   "cell_type": "code",
   "execution_count": 63,
   "id": "dceb7c7b",
   "metadata": {
    "lines_to_next_cell": 1
   },
   "outputs": [],
   "source": [
    "# To be completed...\n",
    "\n",
    "# assert False, 'Not implemented yet'\n",
    "def temporal_difference(\n",
    "    mdp: MazeMDPEnv,\n",
    "    nb_episodes: int = 50,\n",
    "    alpha_critic: float = 0.2,\n",
    "    alpha_actor: float = 0.2,\n",
    "    timeout: int = 25,\n",
    "    render: bool = True,\n",
    ") -> np.ndarray:\n",
    "    # alpha: learning rate\n",
    "    # timeout: timeout of an episode (maximum number of timesteps)\n",
    "    v = np.zeros(mdp.unwrapped.nb_states)  # initial state value v\n",
    "    policy = np.random.uniform(0, 1, (mdp.unwrapped.nb_states, mdp.action_space.n)) # initial policy (each state with each action)\n",
    "    mdp.timeout = timeout\n",
    "    list_steps = []\n",
    "\n",
    "    if render:\n",
    "        mdp.unwrapped.init_draw(\"Temporal differences\")\n",
    "\n",
    "    for _ in tqdm(range(nb_episodes)):  # for each episode\n",
    "        steps = 0\n",
    "        # Draw an initial state randomly (if uniform is set to False, the state\n",
    "        # is drawn according to the P0 distribution)\n",
    "        x, _ = mdp.reset(uniform=True)\n",
    "        terminated = False\n",
    "        truncated = False\n",
    "        while not (terminated or truncated):\n",
    "            # Show agent\n",
    "            if render:\n",
    "                mdp.unwrapped.draw_v_pi(v, policy)\n",
    "\n",
    "            # Sample an action from the probabilistic distribution of actions in this state\n",
    "            u = sample_categorical(policy[x])\n",
    "            # Step forward following the MDP: x=current state, pol[i]=agent's\n",
    "            # action according to policy pol, r=reward gained after taking\n",
    "            # action pol[i], terminated=tells whether  the episode ended, and info\n",
    "            # gives some info about the process\n",
    "            y, r, terminated, truncated, _ = mdp.step(\n",
    "                egreedy_loc(u, mdp.action_space.n, epsilon=0.2)\n",
    "            )\n",
    "            # To be completed...\n",
    "\n",
    "            # Update the state value of x\n",
    "            \n",
    "            delta = r + mdp.gamma*v[y]*(not terminated) - v[x]\n",
    "            # Update V (critic)\n",
    "            v[x] = v[x] + alpha_critic*delta\n",
    "            # assert False, 'Not implemented yet'\n",
    "\n",
    "            # Update policy\n",
    "            policy_temp = np.where(policy[x] + alpha_actor*delta > 10e-8, policy[x] + alpha_actor*delta, 10e-8)\n",
    "            policy_temp_plus_1 = policy[x]\n",
    "            policy_temp_plus_1[u] = policy_temp[u]\n",
    "            sum_norm = np.sum(policy_temp_plus_1)\n",
    "            policy[x] = policy_temp_plus_1 / sum_norm\n",
    "\n",
    "\n",
    "            # Update agent's position (state)\n",
    "            x = y\n",
    "\n",
    "            # Plus 1 step\n",
    "            steps += 1\n",
    "\n",
    "        list_steps.append(steps)\n",
    "\n",
    "    if render:\n",
    "        mdp.current_state = 0\n",
    "        mdp.unwrapped.draw_v_pi(v, policy)\n",
    "    return v, list_steps"
   ]
  },
  {
   "cell_type": "code",
   "execution_count": 70,
   "id": "58c1d4c0-0cff-43d3-88d3-681d81596ccf",
   "metadata": {},
   "outputs": [
    {
     "data": {
      "application/vnd.jupyter.widget-view+json": {
       "model_id": "631ccaac3301483a9cc605b9144d85bd",
       "version_major": 2,
       "version_minor": 0
      },
      "text/plain": [
       "VBox(children=(MazeWidget(cells=array([[ 0, -1, -1,  7],\n",
       "       [ 1,  3,  5,  8],\n",
       "       [ 2,  4,  6,  9]]), t…"
      ]
     },
     "metadata": {},
     "output_type": "display_data"
    },
    {
     "name": "stderr",
     "output_type": "stream",
     "text": [
      "100%|████████████████████████████████████████| 100/100 [00:00<00:00, 397.47it/s]\n"
     ]
    }
   ],
   "source": [
    "v, list_steps = temporal_difference(env, NB_EPISODES, timeout=TIMEOUT)"
   ]
  },
  {
   "cell_type": "markdown",
   "id": "5f40917c",
   "metadata": {},
   "source": [
    "### 2. Provide a plot function\n",
    "\n",
    "Your plot function should show the evolution through time of number of steps the agent takes to find the reward in the maze.\n",
    "If your algorithm works, this number of steps should decrease through time.\n",
    "\n",
    "Your plot function should also show a mean and a standard deviation (or some more advanced statistics) over a collection of learning runs."
   ]
  },
  {
   "cell_type": "code",
   "execution_count": 85,
   "id": "70039d0b",
   "metadata": {
    "lines_to_next_cell": 1
   },
   "outputs": [],
   "source": [
    "# To be completed...\n",
    "\n",
    "# assert False, 'Not implemented yet'\n",
    "def plot_steps(nb_episodes, list_steps):\n",
    "    plt.plot(range(nb_episodes), list_steps)\n",
    "    plt.xlabel(\"episodes\")\n",
    "    plt.ylabel(\"number of steps\")\n",
    "    plt.title(f\"Evolution through episodes of number of steps\")\n",
    "    plt.legend()\n",
    "    plt.show()\n",
    "\n",
    "def plot_mean_std(env, nb_episodes, nb_runs, timeout):\n",
    "    means = []\n",
    "    stds = []\n",
    "    for i in range(nb_runs):\n",
    "        _, list_steps = temporal_difference(env, nb_episodes, timeout=timeout)\n",
    "        means.append(np.mean(list_steps))\n",
    "        stds.append(np.std(list_steps))\n",
    "    plt.plot(range(nb_runs), means, \"r\", label=\"means\")\n",
    "    plt.plot(range(nb_runs), stds, \"b\", label=\"stds\")\n",
    "    plt.xlabel(\"groups of runs\")\n",
    "    plt.ylabel(\"means and std\")\n",
    "    plt.title(f\"Statistics over groups of {nb_runs} learning runs\")\n",
    "    plt.legend()\n",
    "    plt.show()"
   ]
  },
  {
   "cell_type": "code",
   "execution_count": 86,
   "id": "b9b179a3-18a0-4d43-85ad-9faa0b904956",
   "metadata": {},
   "outputs": [
    {
     "name": "stderr",
     "output_type": "stream",
     "text": [
      "/tmp/ipykernel_14954/1131309699.py:9: UserWarning: No artists with labels found to put in legend.  Note that artists whose label start with an underscore are ignored when legend() is called with no argument.\n",
      "  plt.legend()\n"
     ]
    }
   ],
   "source": [
    "plot_steps(NB_EPISODES, list_steps)"
   ]
  },
  {
   "cell_type": "code",
   "execution_count": 87,
   "id": "1a48c92f-30a7-40b4-aea3-232da9b66907",
   "metadata": {},
   "outputs": [
    {
     "data": {
      "application/vnd.jupyter.widget-view+json": {
       "model_id": "5f6b5b66d889414bb8021555d345b4df",
       "version_major": 2,
       "version_minor": 0
      },
      "text/plain": [
       "VBox(children=(MazeWidget(cells=array([[ 0, -1, -1,  7],\n",
       "       [ 1,  3,  5,  8],\n",
       "       [ 2,  4,  6,  9]]), t…"
      ]
     },
     "metadata": {},
     "output_type": "display_data"
    },
    {
     "name": "stderr",
     "output_type": "stream",
     "text": [
      " 48%|███████████████████▋                     | 48/100 [00:00<00:00, 175.25it/s]IOPub message rate exceeded.\n",
      "The Jupyter server will temporarily stop sending output\n",
      "to the client in order to avoid crashing it.\n",
      "To change this limit, set the config variable\n",
      "`--ServerApp.iopub_msg_rate_limit`.\n",
      "\n",
      "Current values:\n",
      "ServerApp.iopub_msg_rate_limit=1000.0 (msgs/sec)\n",
      "ServerApp.rate_limit_window=3.0 (secs)\n",
      "\n",
      "100%|████████████████████████████████████████| 100/100 [00:00<00:00, 554.59it/s]\n",
      "100%|████████████████████████████████████████| 100/100 [00:00<00:00, 524.78it/s]\n",
      "  0%|                                                   | 0/100 [00:00<?, ?it/s]IOPub message rate exceeded.\n",
      "The Jupyter server will temporarily stop sending output\n",
      "to the client in order to avoid crashing it.\n",
      "To change this limit, set the config variable\n",
      "`--ServerApp.iopub_msg_rate_limit`.\n",
      "\n",
      "Current values:\n",
      "ServerApp.iopub_msg_rate_limit=1000.0 (msgs/sec)\n",
      "ServerApp.rate_limit_window=3.0 (secs)\n",
      "\n"
     ]
    }
   ],
   "source": [
    "plot_mean_std(env, NB_EPISODES, 10, TIMEOUT)"
   ]
  },
  {
   "cell_type": "markdown",
   "id": "9f118a80",
   "metadata": {},
   "source": [
    "## Actor-critic hyper-parameters\n",
    "\n",
    "To represent the hyper-parameters of the experiments performed in this notebook, we suggest using the dictionary below.\n",
    "This dictionary can be read using omegaconf.\n",
    "Using it is not mandatory.\n",
    "You can also change the value of hyper-parameters or environment parameters at will."
   ]
  },
  {
   "cell_type": "code",
   "execution_count": null,
   "id": "b61b5019",
   "metadata": {
    "lines_to_next_cell": 1
   },
   "outputs": [],
   "source": [
    "ac_params = {\n",
    "    \"save_curves\": False,\n",
    "    \"save_heatmap\": True,\n",
    "    \"mdp\": {\n",
    "        \"name\": \"MazeMDP-v0\",\n",
    "        \"width\": 5,\n",
    "        \"height\": 5,\n",
    "        \"ratio\": 0.2,\n",
    "        \"render_mode\": \"rgb_array\",\n",
    "        },\n",
    "        \n",
    "    \"log_dir\": \"./tmp\",\n",
    "    \"video_dir\": \"./tmp/videos\",\n",
    "\n",
    "    \"nb_episodes\": 100,\n",
    "    \"timeout\": 200,\n",
    "    \"render\": False, # True, # \n",
    "    \"nb_repeats\": 5,\n",
    "\n",
    "    \"alpha_critic\": 0.5,\n",
    "    \"alpha_actor\": 0.5,\n",
    "    }"
   ]
  },
  {
   "cell_type": "markdown",
   "id": "395ea76c",
   "metadata": {},
   "source": [
    "### 3. Test your code\n",
    "\n",
    "Once everything looks OK, save the obtained plot for your lab report"
   ]
  },
  {
   "cell_type": "code",
   "execution_count": null,
   "id": "59b395d7",
   "metadata": {},
   "outputs": [],
   "source": [
    "# To be completed...\n",
    "\n",
    "assert False, 'Not implemented yet'\n"
   ]
  },
  {
   "cell_type": "markdown",
   "id": "c670cf5a",
   "metadata": {},
   "source": [
    "# Step 2: Tuning hyper-parameters\n",
    "\n",
    "In this part, you have to optimize two hyper-parameters of the actor-critic algorithm, namely the actor and critic learning rates.\n",
    "You have to do so using a simple grid search method and some Bayesian optimization method.\n",
    "For the latter, we suggest using the default sampler from [optuna](https://optuna.readthedocs.io/en/stable/).\n",
    "Follow the above link to understand how optuna works.\n",
    "Note that it also supports grid search and many other hyper-parameters tuning algorithms.\n",
    "\n",
    "You should make sure that the hyper-parameters tuning algorithms that you compare benefit from the same training budget\n",
    "We suggest 400 training runs overall for each method,\n",
    "which means 20 values each for the actor and the critic learning rates in the case of grid search.\n",
    "\n",
    "## Exercise 2\n",
    "\n",
    "### 1. Perform hyper-parameters tuning with two algorithms as suggested above.\n",
    "\n",
    "### 2. Provide a \"heatmap\" of the norm of the value function given the hyper-parameters, after training for each pair of hyper-parameters.\n",
    "\n",
    "### 3. Collect the value of the best hyper-parameters found with each algorithm. You will need them for Step 3.\n",
    "\n",
    "### 4. Include in your report the heatmaps and the best hyper-parameters found for each method."
   ]
  },
  {
   "cell_type": "code",
   "execution_count": null,
   "id": "c9925709",
   "metadata": {},
   "outputs": [],
   "source": [
    "# To be completed...\n",
    "\n",
    "assert False, 'Not implemented yet'\n"
   ]
  },
  {
   "cell_type": "markdown",
   "id": "9623963b",
   "metadata": {},
   "source": [
    "# Step 3: Statistical tests\n",
    "\n",
    "Now you have to compare the performance of the actor-critic algorithm tuned\n",
    "with all the best hyper-parameters you found before, using statistical tests.\n",
    "\n",
    "The functions below are provided to run Welch's T-test over learning curves.\n",
    "They have been adapted from a github repository: https://github.com/flowersteam/rl_stats\n",
    "You don't need to understand them in detail (though it is always a good idea to try to understand more code)."
   ]
  },
  {
   "cell_type": "code",
   "execution_count": null,
   "id": "2e2beb4e",
   "metadata": {
    "lines_to_next_cell": 1
   },
   "outputs": [],
   "source": [
    "from scipy.stats import ttest_ind\n",
    "import bootstrapped.bootstrap as bs\n",
    "import bootstrapped.compare_functions as bs_compare\n",
    "import bootstrapped.stats_functions as bs_stats"
   ]
  },
  {
   "cell_type": "code",
   "execution_count": null,
   "id": "5b2f1185",
   "metadata": {
    "lines_to_next_cell": 1
   },
   "outputs": [],
   "source": [
    "def compute_central_tendency_and_error(id_central, id_error, sample):\n",
    "\n",
    "    try:\n",
    "        id_error = int(id_error)\n",
    "    except:\n",
    "        pass\n",
    "\n",
    "    if id_central == \"mean\":\n",
    "        central = np.nanmean(sample, axis=1)\n",
    "    elif id_central == \"median\":\n",
    "        central = np.nanmedian(sample, axis=1)\n",
    "    else:\n",
    "        raise NotImplementedError\n",
    "\n",
    "    if isinstance(id_error, int):\n",
    "        low = np.nanpercentile(sample, q=int((100 - id_error) / 2), axis=1)\n",
    "        high = np.nanpercentile(sample, q=int(100 - (100 - id_error) / 2), axis=1)\n",
    "    elif id_error == \"std\":\n",
    "        low = central - np.nanstd(sample, axis=1)\n",
    "        high = central + np.nanstd(sample, axis=1)\n",
    "    elif id_error == \"sem\":\n",
    "        low = central - np.nanstd(sample, axis=1) / np.sqrt(sample.shape[0])\n",
    "        high = central + np.nanstd(sample, axis=1) / np.sqrt(sample.shape[0])\n",
    "    else:\n",
    "        raise NotImplementedError\n",
    "\n",
    "    return central, low, high"
   ]
  },
  {
   "cell_type": "code",
   "execution_count": null,
   "id": "db5f1780",
   "metadata": {
    "lines_to_next_cell": 1
   },
   "outputs": [],
   "source": [
    "def run_test(test_id, data1, data2, alpha=0.05):\n",
    "    \"\"\"\n",
    "    Compute tests comparing data1 and data2 with confidence level alpha\n",
    "    :param test_id: (str) refers to what test should be used\n",
    "    :param data1: (np.ndarray) sample 1\n",
    "    :param data2: (np.ndarray) sample 2\n",
    "    :param alpha: (float) confidence level of the test\n",
    "    :return: (bool) if True, the null hypothesis is rejected\n",
    "    \"\"\"\n",
    "    data1 = data1.squeeze()\n",
    "    data2 = data2.squeeze()\n",
    "    n1 = data1.size\n",
    "    n2 = data2.size\n",
    "\n",
    "    # perform Welch t-test\":\n",
    "    _, p = ttest_ind(data1, data2, equal_var=False)\n",
    "    return p < alpha"
   ]
  },
  {
   "cell_type": "markdown",
   "id": "4973d3db",
   "metadata": {},
   "source": [
    "This last function was adapted for the lab."
   ]
  },
  {
   "cell_type": "code",
   "execution_count": null,
   "id": "a803d52e",
   "metadata": {
    "lines_to_next_cell": 1
   },
   "outputs": [],
   "source": [
    "def perform_test(perf1, perf2, name1, name2, sample_size=20, downsampling_fact=5, confidence_level=0.01):\n",
    "\n",
    "    perf1 = perf1.transpose()\n",
    "    perf2 = perf2.transpose()\n",
    "    nb_datapoints = perf1.shape[1]\n",
    "    nb_steps = perf1.shape[0]\n",
    "\n",
    "    legend = [name1, name2]\n",
    "\n",
    "    # what do you want to plot ?\n",
    "    id_central = 'mean' # \"median\"  # \n",
    "    id_error = 80  # (percentiles), also: 'std', 'sem'\n",
    "\n",
    "    test_id = \"Welch t-test\"  # recommended\n",
    "    \n",
    "    sample1 = perf1[:, np.random.randint(0, nb_datapoints, sample_size)]\n",
    "    sample2 = perf2[:, np.random.randint(0, nb_datapoints, sample_size)]\n",
    "\n",
    "    steps = np.arange(0, nb_steps, downsampling_fact)\n",
    "    sample1 = sample1[steps, :]\n",
    "    sample2 = sample2[steps, :]\n",
    "\n",
    "    # test\n",
    "    sign_diff = np.zeros([len(steps)])\n",
    "    for i in range(len(steps)):\n",
    "        sign_diff[i] = run_test(\n",
    "            test_id, sample1[i, :], sample2[i, :], alpha=confidence_level\n",
    "        )\n",
    "\n",
    "    central1, low1, high1 = compute_central_tendency_and_error(\n",
    "        id_central, id_error, sample1\n",
    "    )\n",
    "    central2, low2, high2 = compute_central_tendency_and_error(\n",
    "        id_central, id_error, sample2\n",
    "    )\n",
    "\n",
    "    # plot\n",
    "    _, ax = plt.subplots(1, 1, figsize=(20, 10))\n",
    "    lab1 = plt.xlabel(\"training steps\")\n",
    "    lab2 = plt.ylabel(\"performance\")\n",
    "\n",
    "    plt.plot(steps, central1, linewidth=10)\n",
    "    plt.plot(steps, central2, linewidth=10)\n",
    "    plt.fill_between(steps, low1, high1, alpha=0.3)\n",
    "    plt.fill_between(steps, low2, high2, alpha=0.3)\n",
    "    leg = ax.legend(legend, frameon=False)\n",
    "\n",
    "    # plot significative difference as dots\n",
    "    idx = np.argwhere(sign_diff == 1)\n",
    "    y = max(np.nanmax(high1), np.nanmax(high2))\n",
    "    plt.scatter(steps[idx], y * 1.05 * np.ones([idx.size]), s=100, c=\"k\", marker=\"o\")\n",
    "\n",
    "    # style\n",
    "    for line in leg.get_lines():\n",
    "        line.set_linewidth(10.0)\n",
    "    ax.spines[\"top\"].set_linewidth(5)\n",
    "    ax.spines[\"right\"].set_linewidth(5)\n",
    "    ax.spines[\"bottom\"].set_linewidth(5)\n",
    "    ax.spines[\"left\"].set_linewidth(5)\n",
    "\n",
    "    plt.savefig(\n",
    "        f\"./{name1}_{name2}.png\", bbox_extra_artists=(leg, lab1, lab2), bbox_inches=\"tight\", dpi=100\n",
    "    )\n",
    "    # plt.show()"
   ]
  },
  {
   "cell_type": "markdown",
   "id": "c9505406",
   "metadata": {},
   "source": [
    "## Exercise 3\n",
    "\n",
    "As hyper-parameters, you will use:\n",
    "\n",
    "- naive tuning, that is a pair (0.5, 0.5) for the actor and critic learning rates,\n",
    "- the best hyper-parameters you found with the different tuning algorithms you used before.\n",
    "\n",
    "### 1. For each set of hyper-parameters, collect a large dataset of learning curves.\n",
    "\n",
    "We suggest using 150 training episodes.\n",
    "\n",
    "### 2. Perform statistical comparisons\n",
    "\n",
    "- Take two datasets of learning curves obtained with the hyper-parameters sets that you found with different tuning algorithms.\n",
    "- Use the ``` perform_test(...)``` function to compare each possible pair of sets.\n",
    "\n",
    "You should obtain an image for each pair you have tried.\n",
    "In this image, black dots signal the time step where there is a statistically significant difference between two learning curves.\n",
    "\n",
    " ### 3. Conclude."
   ]
  },
  {
   "cell_type": "code",
   "execution_count": null,
   "id": "ba0b1e9a",
   "metadata": {},
   "outputs": [],
   "source": [
    "# To be completed...\n",
    "\n",
    "assert False, 'Not implemented yet'\n"
   ]
  },
  {
   "cell_type": "markdown",
   "id": "1c3f0c3c",
   "metadata": {},
   "source": [
    "# Lab report\n",
    "\n",
    "Your report should contain:\n",
    "- your source code (probably this notebook), do not forget to put your names on top of the notebook,\n",
    "- in a separate pdf file with your names in the name of the file:\n",
    "    + a detailed enough description of the choices you have made: the parameters you have set, the libraries you have used, etc.,\n",
    "    + the heatmaps obtained using the hyper-parameters tuning algorithms that you have used,\n",
    "    + the figures resulting from performing Welch's T-test using the best hyper-parameters from the above approaches,\n",
    "    + your conclusion from these experiments.\n",
    "\n",
    "Beyond the elements required in this report, any additional studies will be rewarded.\n",
    "For instance, you can try using a Q-function as critic, using random search as hyper-parameters tuning algorithm,\n",
    "using more challenging environments, etc."
   ]
  }
 ],
 "metadata": {
  "jupytext": {
   "cell_markers": "\"\"\""
  },
  "kernelspec": {
   "display_name": "Python 3 (ipykernel)",
   "language": "python",
   "name": "python3"
  },
  "language_info": {
   "codemirror_mode": {
    "name": "ipython",
    "version": 3
   },
   "file_extension": ".py",
   "mimetype": "text/x-python",
   "name": "python",
   "nbconvert_exporter": "python",
   "pygments_lexer": "ipython3",
   "version": "3.9.6"
  }
 },
 "nbformat": 4,
 "nbformat_minor": 5
}
